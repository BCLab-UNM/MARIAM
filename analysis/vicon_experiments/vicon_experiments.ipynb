{
 "cells": [
  {
   "cell_type": "code",
   "execution_count": 1,
   "id": "f175f090",
   "metadata": {},
   "outputs": [],
   "source": [
    "import matplotlib.pyplot as plt\n",
    "import pandas as pd\n",
    "from pathlib import Path\n",
    "from rosbags.rosbag2 import Reader\n",
    "from rosbags.serde import deserialize_cdr\n",
    "from rosbags.highlevel import AnyReader\n",
    "\n",
    "import numpy as np"
   ]
  },
  {
   "cell_type": "code",
   "execution_count": 2,
   "id": "d4c05614",
   "metadata": {},
   "outputs": [],
   "source": [
    "def get_pose_data(bag_path, topic_name):\n",
    "    poses_data = {\n",
    "        'timestamp': [],\n",
    "        'time_sec': [],\n",
    "        'position': {\n",
    "            'x': [],\n",
    "            'y': [],\n",
    "            'z': []\n",
    "        },\n",
    "        'orientation': {\n",
    "            'x': [],\n",
    "            'y': [],\n",
    "            'z': [],\n",
    "            'w': []\n",
    "        },\n",
    "        # 'covariance': []\n",
    "    }\n",
    "\n",
    "    with AnyReader([bag_path]) as reader:\n",
    "        # Print bag info\n",
    "        print(f\"Bag duration: {reader.duration / 1e9:.2f} seconds\")\n",
    "        print(f\"Message count: {reader.message_count}\")\n",
    "\n",
    "        connection = [x for x in reader.connections if x.topic == topic_name]\n",
    "\n",
    "        # Read messages\n",
    "        for connection, timestamp, rawdata in reader.messages(connections=connection):\n",
    "            msg = reader.deserialize(rawdata, connection.msgtype)\n",
    "\n",
    "            # Extract pose data\n",
    "            poses_data['timestamp'].append(timestamp)\n",
    "            poses_data['time_sec'].append(timestamp / 1e9)\n",
    "\n",
    "            poses_data['position']['x'].append(msg.position.x)\n",
    "            poses_data['position']['y'].append(msg.position.y)\n",
    "            poses_data['position']['z'].append(msg.position.z)\n",
    "\n",
    "            poses_data['orientation']['x'].append(msg.orientation.x)\n",
    "            poses_data['orientation']['y'].append(msg.orientation.y)\n",
    "            poses_data['orientation']['z'].append(msg.orientation.z)\n",
    "            poses_data['orientation']['w'].append(msg.orientation.w)\n",
    "\n",
    "            # poses_data['covariance'].append(msg.pose.covariance)\n",
    "\n",
    "    # poses_data['covariance'] = np.array(poses_data['covariance'])\n",
    "    # print(f\"Read {len(poses_data)} pose messages\")\n",
    "    return poses_data\n",
    "\n",
    "def get_force_data(bag_path, topic_name):\n",
    "    force_data = {\n",
    "        'timestamp': [],\n",
    "        'time_sec': [],\n",
    "        'data': []\n",
    "    }\n",
    "    with AnyReader([bag_path]) as reader:\n",
    "        # Print bag info\n",
    "        print(f\"Bag duration: {reader.duration / 1e9:.2f} seconds\")\n",
    "        print(f\"Message count: {reader.message_count}\")\n",
    "\n",
    "        connection = [x for x in reader.connections if x.topic == topic_name]\n",
    "\n",
    "        # Read messages\n",
    "        for connection, timestamp, rawdata in reader.messages(connections=connection):\n",
    "            msg = reader.deserialize(rawdata, connection.msgtype)\n",
    "            force_data['timestamp'].append(timestamp)\n",
    "            force_data['time_sec'].append(timestamp / 1e9)\n",
    "            force_data['data'].append(msg.data)\n",
    "\n",
    "    return force_data\n",
    "\n",
    "\n",
    "\n",
    "\n",
    "def plot_displacements_over_time(timestamps, monica_poses, ross_poses):\n",
    "    displacements = ross_poses - monica_poses\n",
    "    plt.plot(\n",
    "        timestamps,\n",
    "        displacements,\n",
    "        '-r'\n",
    "    )\n",
    "    plt.legend(['monica', 'ross'])\n",
    "    plt.grid(True)\n",
    "    plt.xlabel('x')\n",
    "    plt.ylabel('y')\n",
    "    plt.title('Trajectory over time for monica and ross')\n",
    "    plt.show()\n",
    "\n",
    "def plot_force_data(timestamps, force_data):\n",
    "    plt.plot(\n",
    "        timestamps,\n",
    "        force_data,\n",
    "        '-r'\n",
    "    )\n",
    "    plt.grid(True)\n",
    "    plt.xlabel('t')\n",
    "    plt.ylabel('force (N)')\n",
    "    plt.title('Force readings over time')\n",
    "    plt.show()"
   ]
  },
  {
   "cell_type": "code",
   "execution_count": 5,
   "id": "9d216eaa",
   "metadata": {},
   "outputs": [
    {
     "name": "stdout",
     "output_type": "stream",
     "text": [
      "Bag duration: 49.49 seconds\n",
      "Message count: 101001\n"
     ]
    },
    {
     "data": {
      "image/png": "[encoded data removed]",
      "text/plain": [
       "<Figure size 640x480 with 1 Axes>"
      ]
     },
     "metadata": {},
     "output_type": "display_data"
    }
   ],
   "source": [
    "bag_path = Path('../../../datasets/vicon_data/vicon_test_1')\n",
    "\n",
    "force_data = get_force_data(bag_path, '/monica/force')\n",
    "\n",
    "plot_force_data(force_data['time_sec'], force_data['data'])"
   ]
  }
 ],
 "metadata": {
  "kernelspec": {
   "display_name": "base",
   "language": "python",
   "name": "python3"
  },
  "language_info": {
   "codemirror_mode": {
    "name": "ipython",
    "version": 3
   },
   "file_extension": ".py",
   "mimetype": "text/x-python",
   "name": "python",
   "nbconvert_exporter": "python",
   "pygments_lexer": "ipython3",
   "version": "3.12.3"
  }
 },
 "nbformat": 4,
 "nbformat_minor": 5
}
